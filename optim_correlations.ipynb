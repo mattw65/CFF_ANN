{
 "cells": [
  {
   "cell_type": "code",
   "execution_count": null,
   "metadata": {},
   "outputs": [],
   "source": [
    "import pandas as pd\n",
    "import numpy as np\n",
    "import matplotlib.pyplot as plt\n",
    "import scipy.stats as stats"
   ]
  },
  {
   "cell_type": "code",
   "execution_count": null,
   "metadata": {},
   "outputs": [],
   "source": [
    "dats = pd.read_csv('dvcs_psuedo.csv')\n",
    "k = np.array(dats['k'])\n",
    "qq = np.array(dats['QQ'])\n",
    "xb = np.array(dats['x_b'])\n",
    "t = np.array(dats['t'])\n",
    "phi = np.array(dats['phi_x'])\n",
    "ydat = np.array(dats['F'])\n",
    "errF = np.array(dats['errF']) \n",
    "F1 = np.array(dats['F1'])\n",
    "F2 = np.array(dats['F2'])\n",
    "const = np.array(dats['dvcs'])  \n",
    "ReH = np.array(dats['ReH']) \n",
    "ReE = np.array(dats['ReE']) \n",
    "ReHT = np.array(dats['ReHtilde'])"
   ]
  },
  {
   "cell_type": "code",
   "execution_count": null,
   "metadata": {},
   "outputs": [],
   "source": [
    "ReHs = []\n",
    "ReEs = []\n",
    "ReHTs = []\n",
    "errReH = []\n",
    "errReE = []\n",
    "errReHT = []\n",
    "ks = []\n",
    "qqs = []\n",
    "xbs = []\n",
    "ts = []\n",
    "layersReH = []\n",
    "layersReE = []\n",
    "layersReHT = []\n",
    "lrReH = []\n",
    "lrReE = []\n",
    "lrReHT = []\n"
   ]
  },
  {
   "cell_type": "code",
   "execution_count": null,
   "metadata": {},
   "outputs": [],
   "source": [
    "for i in range(14):\n",
    "    ReHs.append(ReH[36*i])\n",
    "    ReEs.append(ReE[36*i])\n",
    "    ReHTs.append(ReHT[36*i])\n",
    "    ks.append(k[36*i])\n",
    "    qqs.append(qq[36*i])\n",
    "    xbs.append(xb[36*i])\n",
    "    ts.append(t[36*i])\n",
    "    filename = ('network_optim_' + str(i) + '.out.txt')\n",
    "    optims = np.array(pd.read_csv(filename))\n",
    "    errReH.append(optims[0][0])\n",
    "    errReE.append(optims[1][0])\n",
    "    errReHT.append(optims[2][0])\n",
    "    layersReH.append(optims[3][0])\n",
    "    layersReE.append(optims[4][0])\n",
    "    layersReHT.append(optims[5][0])\n",
    "    lrReH.append(optims[6][0])\n",
    "    lrReE.append(optims[7][0])\n",
    "    lrReHT.append(optims[7][0])"
   ]
  }
 ],
 "metadata": {
  "kernelspec": {
   "display_name": "Python 3.8.0 64-bit ('3.8.0': pyenv)",
   "language": "python",
   "name": "python38064bit380pyenved12a976e68141e38c3bddf96dcbc67e"
  },
  "language_info": {
   "codemirror_mode": {
    "name": "ipython",
    "version": 3
   },
   "file_extension": ".py",
   "mimetype": "text/x-python",
   "name": "python",
   "nbconvert_exporter": "python",
   "pygments_lexer": "ipython3",
   "version": "3.8.0"
  }
 },
 "nbformat": 4,
 "nbformat_minor": 4
}
