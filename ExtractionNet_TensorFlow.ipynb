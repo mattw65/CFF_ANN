{
 "cells": [
  {
   "cell_type": "code",
   "execution_count": 4,
   "metadata": {},
   "outputs": [],
   "source": [
    "import tensorflow as tf\n",
    "from tensorflow import keras\n",
    "\n",
    "import numpy as np\n",
    "import pandas as pd \n",
    "from BHDVCS_tf import TFBHDVCS\n",
    "\n",
    "import BHDVCS_fit as dvcsfit\n",
    "\n",
    "import matplotlib\n",
    "import matplotlib.pyplot as plt\n",
    "\n",
    "from scipy.stats import chisquare"
   ]
  },
  {
   "cell_type": "code",
   "execution_count": 5,
   "metadata": {},
   "outputs": [],
   "source": [
    "tfb = TFBHDVCS()\n",
    "\n",
    "f = tfb.TotalUUXS_curve_fit\n",
    "\n",
    "loss_func = tfb.loss_MSE2\n",
    "\n",
    "setnum = 0\n",
    "a = setnum*36\n",
    "b = a + 36"
   ]
  },
  {
   "cell_type": "code",
   "execution_count": 6,
   "metadata": {},
   "outputs": [],
   "source": [
    "dats = pd.read_csv('dvcs_psuedo.csv')\n",
    "\n",
    "n = np.array(dats['#Set'])[a:b]\n",
    "ind = np.array(dats['index'])[a:b]\n",
    "k = np.array(dats['k'])[a:b]\n",
    "qq = np.array(dats['QQ'])[a:b]\n",
    "xb = np.array(dats['x_b'])[a:b]\n",
    "t = np.array(dats['t'])[a:b]\n",
    "phi = np.array(dats['phi_x'])[a:b]\n",
    "ydat = np.array(dats['F'])[a:b]  \n",
    "errF = np.array(dats['errF'])[a:b]  \n",
    "F1 = np.array(dats['F1'])[a:b]  \n",
    "F2 = np.array(dats['F2'])[a:b]  \n",
    "const = np.array(dats['dvcs'])[a:b]  \n",
    "ReH_target = np.array(dats['ReH'])[a:b]  \n",
    "ReE_target = np.array(dats['ReE'])[a:b]  \n",
    "ReHT_target = np.array(dats['ReHtilde'])[a:b]"
   ]
  },
  {
   "cell_type": "code",
   "execution_count": 15,
   "metadata": {},
   "outputs": [],
   "source": [
    "xdat = np.asarray([phi, qq, xb, t, k, F1, F2, const])\n",
    "x = tf.constant(xdat[1:5], dtype=tf.float64)\n",
    "y = tf.constant(ydat, dtype=tf.float64)"
   ]
  },
  {
   "cell_type": "code",
   "execution_count": 16,
   "metadata": {},
   "outputs": [],
   "source": [
    "net = keras.Sequential([\n",
    "    keras.layers.Input(shape=(4,)),\n",
    "    keras.layers.Dense(units=100, activation='tanh'),\n",
    "    keras.layers.Dense(units=100, activation='tanh'),\n",
    "    keras.layers.Dense(units=80, activation='tanh'),\n",
    "    keras.layers.Dense(units=3, activation='tanh')\n",
    "])"
   ]
  },
  {
   "cell_type": "code",
   "execution_count": null,
   "metadata": {},
   "outputs": [],
   "source": []
  }
 ],
 "metadata": {
  "kernelspec": {
   "display_name": "Python 3.8.0 64-bit ('3.8.0': pyenv)",
   "language": "python",
   "name": "python38064bit380pyenved12a976e68141e38c3bddf96dcbc67e"
  },
  "language_info": {
   "codemirror_mode": {
    "name": "ipython",
    "version": 3
   },
   "file_extension": ".py",
   "mimetype": "text/x-python",
   "name": "python",
   "nbconvert_exporter": "python",
   "pygments_lexer": "ipython3",
   "version": "3.8.0"
  }
 },
 "nbformat": 4,
 "nbformat_minor": 4
}
