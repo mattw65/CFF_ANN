{
 "cells": [
  {
   "cell_type": "code",
   "execution_count": null,
   "metadata": {},
   "outputs": [],
   "source": []
  },
  {
   "cell_type": "code",
   "execution_count": null,
   "metadata": {},
   "outputs": [],
   "source": []
  },
  {
   "cell_type": "markdown",
   "metadata": {},
   "source": [
    "# Single Fit"
   ]
  },
  {
   "cell_type": "code",
   "execution_count": 2,
   "metadata": {},
   "outputs": [],
   "source": [
    "import torch\n",
    "import torch.nn as nn\n",
    "from torch.autograd import Variable\n",
    "import torch.nn.functional as F\n",
    "import torch.utils.data as Data\n",
    "\n",
    "import tensorflow as tf\n",
    "from tensorflow import keras\n",
    "\n",
    "import numpy as np\n",
    "import pandas as pd \n",
    "from BHDVCS_tf import TFBHDVCS\n",
    "from BHDVCS_torch import TBHDVCS\n",
    "\n",
    "# import BHDVCS_fit as dvcsfit\n",
    "\n",
    "import matplotlib\n",
    "import matplotlib.pyplot as plt\n",
    "\n",
    "from scipy.stats import chisquare"
   ]
  },
  {
   "cell_type": "markdown",
   "metadata": {},
   "source": [
    "### Load functions and choose set to fit\n",
    "change setnum to choose which set to fit"
   ]
  },
  {
   "cell_type": "code",
   "execution_count": 23,
   "metadata": {},
   "outputs": [],
   "source": [
    "tb = TBHDVCS()\n",
    "\n",
    "f = tb.TotalUUXS_curve_fit\n",
    "\n",
    "loss_func = tb.loss_MSE_errs\n",
    "\n",
    "setnum = 8\n",
    "a = setnum*36\n",
    "b = a + 36"
   ]
  },
  {
   "cell_type": "markdown",
   "metadata": {},
   "source": [
    "### Load in data"
   ]
  },
  {
   "cell_type": "code",
   "execution_count": 4,
   "metadata": {},
   "outputs": [],
   "source": [
    "dats = pd.read_csv('dvcs_psuedo.csv')\n",
    "\n",
    "n = np.array(dats['#Set'])[a:b]\n",
    "ind = np.array(dats['index'])[a:b]\n",
    "k = np.array(dats['k'])[a:b]\n",
    "qq = np.array(dats['QQ'])[a:b]\n",
    "xb = np.array(dats['x_b'])[a:b]\n",
    "t = np.array(dats['t'])[a:b]\n",
    "phi = np.array(dats['phi_x'])[a:b]\n",
    "ydat = np.array(dats['F'])[a:b]  \n",
    "errF = np.array(dats['errF'])[a:b]  \n",
    "F1 = np.array(dats['F1'])[a:b]  \n",
    "F2 = np.array(dats['F2'])[a:b]  \n",
    "const = np.array(dats['dvcs'])[a:b]  \n",
    "ReH_target = np.array(dats['ReH'])[a:b]  \n",
    "ReE_target = np.array(dats['ReE'])[a:b]  \n",
    "ReHT_target = np.array(dats['ReHtilde'])[a:b]"
   ]
  },
  {
   "cell_type": "markdown",
   "metadata": {},
   "source": [
    "### Set pytorch variables\n",
    "***Note: BHDVCS.py file must be changed so that all functions are pytorch***"
   ]
  },
  {
   "cell_type": "code",
   "execution_count": 5,
   "metadata": {},
   "outputs": [],
   "source": [
    "xdat = np.asarray([phi, qq, xb, t, k, F1, F2, const])\n",
    "x = Variable(torch.from_numpy(xdat[1:5].transpose()))\n",
    "y = Variable(torch.from_numpy(ydat.transpose()))\n",
    "xdat = Variable(torch.from_numpy(xdat))\n",
    "errs = Variable(torch.from_numpy(errF))"
   ]
  },
  {
   "cell_type": "markdown",
   "metadata": {},
   "source": [
    "## Network Architecture:\n",
    "Inputs: 36 instances of 4 variables (qq, xb, t, kk) \\\n",
    "Outputs: 3 compton form factors \\\n",
    "Loss: Mean of squares between F(net outputs) vs F(given)"
   ]
  },
  {
   "cell_type": "code",
   "execution_count": 6,
   "metadata": {},
   "outputs": [],
   "source": [
    "net = torch.nn.Sequential(\n",
    "        torch.nn.Linear(4, 100),\n",
    "        torch.nn.Tanh(),\n",
    "        torch.nn.Linear(100, 100),\n",
    "        torch.nn.Tanh(),\n",
    "        torch.nn.Linear(100, 80),\n",
    "        torch.nn.Tanh(),\n",
    "        torch.nn.Linear(80, 3)\n",
    "    )"
   ]
  },
  {
   "cell_type": "markdown",
   "metadata": {},
   "source": [
    "### Set optimizer and choose number of epochs"
   ]
  },
  {
   "cell_type": "code",
   "execution_count": 7,
   "metadata": {},
   "outputs": [],
   "source": [
    "optimizer = torch.optim.Adam(net.parameters(), lr=.02)\n",
    "EPOCH = 2500\n",
    "\n",
    "losses = []\n",
    "losses.clear()"
   ]
  },
  {
   "cell_type": "markdown",
   "metadata": {},
   "source": [
    "### Train Network"
   ]
  },
  {
   "cell_type": "code",
   "execution_count": 34,
   "metadata": {},
   "outputs": [
    {
     "name": "stdout",
     "output_type": "stream",
     "text": [
      "Training Set 8\n"
     ]
    },
    {
     "ename": "ValueError",
     "evalue": "not enough values to unpack (expected 8, got 4)",
     "output_type": "error",
     "traceback": [
      "\u001b[0;31m---------------------------------------------------------------------------\u001b[0m",
      "\u001b[0;31mValueError\u001b[0m                                Traceback (most recent call last)",
      "\u001b[0;32m<ipython-input-34-ea0db5e47c87>\u001b[0m in \u001b[0;36m<module>\u001b[0;34m\u001b[0m\n\u001b[1;32m      6\u001b[0m     \u001b[0mReEfit\u001b[0m \u001b[0;34m=\u001b[0m \u001b[0mp\u001b[0m\u001b[0;34m[\u001b[0m\u001b[0;36m1\u001b[0m\u001b[0;34m]\u001b[0m\u001b[0;34m\u001b[0m\u001b[0;34m\u001b[0m\u001b[0m\n\u001b[1;32m      7\u001b[0m     \u001b[0mReHTfit\u001b[0m \u001b[0;34m=\u001b[0m \u001b[0mp\u001b[0m\u001b[0;34m[\u001b[0m\u001b[0;36m2\u001b[0m\u001b[0;34m]\u001b[0m\u001b[0;34m\u001b[0m\u001b[0;34m\u001b[0m\u001b[0m\n\u001b[0;32m----> 8\u001b[0;31m     \u001b[0mloss\u001b[0m \u001b[0;34m=\u001b[0m \u001b[0mloss_func\u001b[0m\u001b[0;34m(\u001b[0m\u001b[0;34m(\u001b[0m\u001b[0mxdat\u001b[0m\u001b[0;34m.\u001b[0m\u001b[0mfloat\u001b[0m\u001b[0;34m(\u001b[0m\u001b[0;34m)\u001b[0m\u001b[0;34m)\u001b[0m\u001b[0;34m,\u001b[0m \u001b[0mReHfit\u001b[0m\u001b[0;34m,\u001b[0m \u001b[0mReEfit\u001b[0m\u001b[0;34m,\u001b[0m \u001b[0mReHTfit\u001b[0m\u001b[0;34m,\u001b[0m \u001b[0merrs\u001b[0m\u001b[0;34m,\u001b[0m \u001b[0my\u001b[0m\u001b[0;34m)\u001b[0m\u001b[0;34m\u001b[0m\u001b[0;34m\u001b[0m\u001b[0m\n\u001b[0m\u001b[1;32m      9\u001b[0m     \u001b[0mlosses\u001b[0m\u001b[0;34m.\u001b[0m\u001b[0mappend\u001b[0m\u001b[0;34m(\u001b[0m\u001b[0mfloat\u001b[0m\u001b[0;34m(\u001b[0m\u001b[0mloss\u001b[0m\u001b[0;34m.\u001b[0m\u001b[0mdata\u001b[0m\u001b[0;34m.\u001b[0m\u001b[0mfloat\u001b[0m\u001b[0;34m(\u001b[0m\u001b[0;34m)\u001b[0m\u001b[0;34m)\u001b[0m\u001b[0;34m)\u001b[0m\u001b[0;34m\u001b[0m\u001b[0;34m\u001b[0m\u001b[0m\n\u001b[1;32m     10\u001b[0m \u001b[0;34m\u001b[0m\u001b[0m\n",
      "\u001b[0;32m~/Desktop/UVA/Research/Neural_Net/BHDVCS_torch.py\u001b[0m in \u001b[0;36mloss_MSE2\u001b[0;34m(self, kins, ReH, ReE, ReHT, sigma, f_true)\u001b[0m\n\u001b[1;32m    260\u001b[0m \u001b[0;34m\u001b[0m\u001b[0m\n\u001b[1;32m    261\u001b[0m     \u001b[0;32mdef\u001b[0m \u001b[0mloss_MSE2\u001b[0m\u001b[0;34m(\u001b[0m\u001b[0mself\u001b[0m\u001b[0;34m,\u001b[0m \u001b[0mkins\u001b[0m\u001b[0;34m,\u001b[0m \u001b[0mReH\u001b[0m\u001b[0;34m,\u001b[0m \u001b[0mReE\u001b[0m\u001b[0;34m,\u001b[0m \u001b[0mReHT\u001b[0m\u001b[0;34m,\u001b[0m \u001b[0msigma\u001b[0m\u001b[0;34m,\u001b[0m \u001b[0mf_true\u001b[0m\u001b[0;34m)\u001b[0m\u001b[0;34m:\u001b[0m\u001b[0;34m\u001b[0m\u001b[0;34m\u001b[0m\u001b[0m\n\u001b[0;32m--> 262\u001b[0;31m         \u001b[0mphi\u001b[0m\u001b[0;34m,\u001b[0m \u001b[0mkin1\u001b[0m\u001b[0;34m,\u001b[0m \u001b[0mkin2\u001b[0m\u001b[0;34m,\u001b[0m \u001b[0mkin3\u001b[0m\u001b[0;34m,\u001b[0m \u001b[0mkin4\u001b[0m\u001b[0;34m,\u001b[0m \u001b[0mF1\u001b[0m\u001b[0;34m,\u001b[0m \u001b[0mF2\u001b[0m\u001b[0;34m,\u001b[0m \u001b[0mconst\u001b[0m \u001b[0;34m=\u001b[0m \u001b[0mkins\u001b[0m\u001b[0;34m\u001b[0m\u001b[0;34m\u001b[0m\u001b[0m\n\u001b[0m\u001b[1;32m    263\u001b[0m \u001b[0;34m\u001b[0m\u001b[0m\n\u001b[1;32m    264\u001b[0m         \u001b[0mself\u001b[0m\u001b[0;34m.\u001b[0m\u001b[0mSetKinematics\u001b[0m\u001b[0;34m(\u001b[0m\u001b[0mkin1\u001b[0m\u001b[0;34m,\u001b[0m \u001b[0mkin2\u001b[0m\u001b[0;34m,\u001b[0m \u001b[0mkin3\u001b[0m\u001b[0;34m,\u001b[0m \u001b[0mkin4\u001b[0m\u001b[0;34m)\u001b[0m\u001b[0;34m\u001b[0m\u001b[0;34m\u001b[0m\u001b[0m\n",
      "\u001b[0;31mValueError\u001b[0m: not enough values to unpack (expected 8, got 4)"
     ]
    }
   ],
   "source": [
    "print(\"Training Set %d\" % (setnum))\n",
    "for epoch in range(EPOCH):\n",
    "    p = net(x[0].float()) #output 3 predicted values for cffs\n",
    "    \n",
    "    ReHfit = p[0]\n",
    "    ReEfit = p[1]\n",
    "    ReHTfit = p[2]\n",
    "    loss = loss_func((xdat.float()), ReHfit, ReEfit, ReHTfit, errs, y)\n",
    "    losses.append(float(loss.data.float()))\n",
    "\n",
    "    optimizer.zero_grad()\n",
    "    loss.backward()\n",
    "    optimizer.step()\n",
    "    \n",
    "print(\"Training Complete\")"
   ]
  },
  {
   "cell_type": "markdown",
   "metadata": {},
   "source": [
    "### Show final fit statistics"
   ]
  },
  {
   "cell_type": "code",
   "execution_count": 8,
   "metadata": {
    "scrolled": false,
    "tags": []
   },
   "outputs": [
    {
     "data": {
      "image/png": "[encoded data removed]",
      "text/plain": [
       "<Figure size 432x288 with 1 Axes>"
      ]
     },
     "metadata": {
      "needs_background": "light"
     },
     "output_type": "display_data"
    },
    {
     "name": "stdout",
     "output_type": "stream",
     "text": [
      "\n",
      "\n",
      "      Fit Value of ReH = 11.41\n",
      "   Actual Value of ReH = 12.55\n",
      "           Error (ReH) = \u001b[1m9.1%\u001b[0m\n",
      "\n",
      "      Fit Value of ReE = -46.52\n",
      "   Actual Value of ReE = -52.55\n",
      "           Error (ReE) = \u001b[1m11.5%\u001b[0m\n",
      "\n",
      "     Fit Value of ReHT = 7.33\n",
      "  Actual Value of ReHT = 6.97\n",
      "          Error (ReHT) = \u001b[1m5.1%\u001b[0m\n",
      "\n",
      "MSE Loss Value for this fit: 9.292e-04\n",
      "Average Error for set #8 using ANN = 8.59%\n",
      "Average Error for set #8 using scipy = 5.51%\n"
     ]
    },
    {
     "data": {
      "image/png": "[encoded data removed]",
      "text/plain": [
       "<Figure size 432x288 with 1 Axes>"
      ]
     },
     "metadata": {
      "needs_background": "light"
     },
     "output_type": "display_data"
    },
    {
     "data": {
      "text/plain": [
       "(5.571635345945568, 7.103719588945344, 3.855825921010846)"
      ]
     },
     "execution_count": 8,
     "metadata": {},
     "output_type": "execute_result"
    }
   ],
   "source": [
    "plt.plot(losses[int(EPOCH*0.2):], 'b--', label='fit')\n",
    "plt.legend()\n",
    "plt.show()\n",
    "\n",
    "ReHfit = p[0].float()\n",
    "ReEfit = p[1].float()\n",
    "ReHTfit = p[2].float()\n",
    "\n",
    "err_H = abs(100*(abs(ReHfit-ReH_target[0]))/ReH_target[0])\n",
    "err_E = abs(100*(abs(ReEfit-ReE_target[0]))/ReE_target[0])\n",
    "err_HT = abs(100*(abs(ReHTfit-ReHT_target[0]))/ReHT_target[0])\n",
    "    \n",
    "print('\\n\\n%25s%.2f' % ('Fit Value of ReH = ', ReHfit))\n",
    "print('%25s%.2f' % ('Actual Value of ReH = ', ReH_target[0]))\n",
    "print('%25s\\033[1m%.1f%%\\033[0m\\n' % ('Error (ReH) = ', err_H))\n",
    "\n",
    "print('%25s%.2f' % ('Fit Value of ReE = ', ReEfit))\n",
    "print('%25s%.2f' % ('Actual Value of ReE = ', ReE_target[0]))\n",
    "print('%25s\\033[1m%.1f%%\\033[0m\\n' % ('Error (ReE) = ', err_E))\n",
    "\n",
    "print('%25s%.2f' % ('Fit Value of ReHT = ', ReHTfit))\n",
    "print('%25s%.2f' % ('Actual Value of ReHT = ', ReHT_target[0]))\n",
    "print('%25s\\033[1m%.1f%%\\033[0m\\n' % ('Error (ReHT) = ', err_HT))\n",
    "\n",
    "# print('Chi-Squared Value for this fit: %.3e' % (chisquare(f(xdat,fit_cffs), ydat)[0]))\n",
    "# print('Chi-Squared Value for expected fit: %.3e' % (chisquare(f(xdat,[ReH_target[0], ReE_target[0], ReHT_target[0]]), ydat)[0]))\n",
    "print('MSE Loss Value for this fit: %.3e' % (float(loss.data.float())))\n",
    "print('Average Error for set #%d using ANN = %.2f%%' % ((setnum), ((err_H+err_E+err_HT)/3)))\n",
    "dvcsfit.fit_scipy(setnum)\n"
   ]
  },
  {
   "cell_type": "markdown",
   "metadata": {},
   "source": [
    "# Finding Error of Fit for each Set:"
   ]
  },
  {
   "cell_type": "code",
   "execution_count": 40,
   "metadata": {},
   "outputs": [],
   "source": [
    "dats = pd.read_csv('dvcs_psuedo.csv')\n",
    "n = np.array(dats['#Set'])\n",
    "ind = np.array(dats['index'])\n",
    "k = np.array(dats['k'])\n",
    "qq = np.array(dats['QQ'])\n",
    "xb = np.array(dats['x_b'])\n",
    "t = np.array(dats['t'])\n",
    "phi = np.array(dats['phi_x'])\n",
    "ydat = np.array(dats['F'])\n",
    "errF = np.array(dats['errF']) \n",
    "F1 = np.array(dats['F1'])\n",
    "F2 = np.array(dats['F2'])\n",
    "const = np.array(dats['dvcs'])  \n",
    "ReH_target = np.array(dats['ReH']) \n",
    "ReE_target = np.array(dats['ReE']) \n",
    "ReHT_target = np.array(dats['ReHtilde'])\n",
    "errs_H = []\n",
    "errs_E = []\n",
    "errs_HT = []\n",
    "\n",
    "EPOCH = 2500\n",
    "\n",
    "arc = torch.nn.Sequential(\n",
    "        torch.nn.Linear(4, 100),\n",
    "        torch.nn.Tanh(),\n",
    "        torch.nn.Linear(100, 100),\n",
    "        torch.nn.Tanh(),\n",
    "        torch.nn.Linear(100, 80),\n",
    "        torch.nn.Tanh(),\n",
    "        torch.nn.Linear(80, 3)\n",
    "    )\n",
    "\n",
    "# bads = [1, 4, 6, 8, 9, 11]"
   ]
  },
  {
   "cell_type": "markdown",
   "metadata": {},
   "source": [
    "## Repeat steps above over each set in data\n",
    "Print graph of loss decrease and fit, chi squared value of fit, and average error in form factors for both the neural net fit and our baseline scipy fit."
   ]
  },
  {
   "cell_type": "code",
   "execution_count": 42,
   "metadata": {
    "tags": []
   },
   "outputs": [
    {
     "name": "stdout",
     "output_type": "stream",
     "text": [
      "Training Set 0...\n",
      "Training Complete\n",
      "2.4074216375989788\n",
      "Training Set 1...\n",
      "Training Complete\n",
      "6.468833317662575\n",
      "Training Set 2...\n",
      "Training Complete\n",
      "7.791529385806948\n",
      "Training Set 3...\n",
      "Training Complete\n",
      "11.827570297979282\n",
      "Training Set 4...\n",
      "Training Complete\n",
      "6.68359595175567\n",
      "Training Set 5...\n",
      "Training Complete\n",
      "6.418575735784835\n",
      "Training Set 6...\n",
      "Training Complete\n",
      "13.415565149251512\n",
      "Training Set 7...\n",
      "Training Complete\n",
      "10.562002039861428\n",
      "Training Set 8...\n",
      "Training Complete\n",
      "6.2506676608950675\n",
      "Training Set 9...\n",
      "Training Complete\n",
      "15.862573683692492\n",
      "Training Set 10...\n",
      "Training Complete\n",
      "6.04219447945591\n",
      "Training Set 11...\n",
      "Training Complete\n",
      "9.918596871837693\n",
      "Training Set 12...\n",
      "Training Complete\n",
      "14.66619343265345\n",
      "Training Set 13...\n",
      "Training Complete\n",
      "5.730742504618797\n",
      "Training Set 14...\n",
      "Training Complete\n",
      "9.057470657067004\n",
      "All sets complete.\n"
     ]
    }
   ],
   "source": [
    "for datset in range(15):\n",
    "    a = datset*36\n",
    "    b = a + 36\n",
    "\n",
    "\n",
    "    xdat = np.asarray([phi[a:b], qq[a:b], xb[a:b], t[a:b], k[a:b], F1[a:b], F2[a:b], const[a:b]])\n",
    "    x = Variable(torch.from_numpy(xdat[1:5].transpose()))\n",
    "    y = Variable(torch.from_numpy(ydat[a:b].transpose()))\n",
    "    xdat = Variable(torch.from_numpy(xdat))\n",
    "    errs = Variable(torch.from_numpy(errF[a:b]))\n",
    "\n",
    "    net = arc\n",
    "    \n",
    "    optimizer = torch.optim.Adam(net.parameters(), lr=0.02)\n",
    "    \n",
    "    losses = []\n",
    "    losses.clear()\n",
    "    \n",
    "    print(\"Training Set %d...\" % (datset))\n",
    "    for epoch in range(EPOCH):\n",
    "        p = net(x.float()) #output arrays for 3 predicted values for cffs\n",
    "\n",
    "        hs = torch.transpose(p, 0, 1)[0] # array of 36 values for ReH at each increment of phi\n",
    "        es = torch.transpose(p, 0, 1)[1] # array of 36 values for ReE at each increment of phi\n",
    "        hts = torch.transpose(p, 0, 1)[2] # array of 36 values for ReHT at each increment of phi\n",
    "\n",
    "        ReHfit = torch.mean(hs)\n",
    "        ReEfit = torch.mean(es)\n",
    "        ReHTfit = torch.mean(hts)\n",
    "\n",
    "        cffs = [ReHfit, ReEfit, ReHTfit]\n",
    "\n",
    "        loss = loss_func((xdat.float()), cffs, errs, y)\n",
    "\n",
    "        optimizer.zero_grad()\n",
    "        loss.backward()\n",
    "        optimizer.step()\n",
    "    \n",
    "    print(\"Training Complete\")\n",
    "    \n",
    "    ReHfits = (torch.transpose(p, 0, 1)[0]).data.numpy()\n",
    "    ReEfits = (torch.transpose(p, 0, 1)[1]).data.numpy()\n",
    "    ReHTfits = (torch.transpose(p, 0, 1)[2]).data.numpy()\n",
    "    ReHfit = np.mean(ReHfits)\n",
    "    ReEfit = np.mean(ReEfits)\n",
    "    ReHTfit = np.mean(ReHTfits)\n",
    "    errs_H.append(100*abs(float(ReHfit)-ReH_target[a])/ReH_target[a])\n",
    "    errs_E.append(100*abs(float(ReEfit)-ReE_target[a])/ReE_target[a])\n",
    "    errs_HT.append(100*abs(float(ReHTfit)-ReHT_target[a])/ReHT_target[a])\n",
    "    print(100*abs(float(ReHfit)-ReH_target[a])/ReH_target[a])\n",
    "\n",
    "#     plt.plot(losses[int(EPOCH/20):], 'b--', label='fit')\n",
    "#     plt.legend()\n",
    "#     plt.show()\n",
    "\n",
    "#     print('\\n\\n%25s%.2f' % ('Fit Value of ReH = ', ReHfit))\n",
    "#     print('%25s%.2f' % ('Actual Value of ReH = ', ReH_target[0]))\n",
    "#     print('%25s\\033[1m%.1f%%\\033[0m\\n' % ('Error (ReH) = ', err_H))\n",
    "\n",
    "#     print('%25s%.2f' % ('Fit Value of ReE = ', ReEfit))\n",
    "#     print('%25s%.2f' % ('Actual Value of ReE = ', ReE_target[0]))\n",
    "#     print('%25s\\033[1m%.1f%%\\033[0m\\n' % ('Error (ReE) = ', err_E))\n",
    "\n",
    "#     print('%25s%.2f' % ('Fit Value of ReHT = ', ReHTfit))\n",
    "#     print('%25s%.2f' % ('Actual Value of ReHT = ', ReHT_target[0]))\n",
    "#     print('%25s\\033[1m%.1f%%\\033[0m\\n' % ('Error (ReHT) = ', err_HT))\n",
    "\n",
    "#     # print('Chi-Squared Value for this fit: %.3e' % (chisquare(f(xdat,fit_cffs), ydat)[0]))\n",
    "#     # print('Chi-Squared Value for expected fit: %.3e' % (chisquare(f(xdat,[ReH_target[0], ReE_target[0], ReHT_target[0]]), ydat)[0]))\n",
    "#     print('MSE Loss Value for this fit: %.3e' % (float(loss.data.float())))\n",
    "#     print('Average Error for set #%d using ANN = %.2f%%' % ((setnum), ((err_H+err_E+err_HT)/3)))\n",
    "#     #dvcsfit.fit_scipy(setnum)\n",
    "\n",
    "print('All sets complete.')"
   ]
  },
  {
   "cell_type": "code",
   "execution_count": 43,
   "metadata": {},
   "outputs": [
    {
     "name": "stdout",
     "output_type": "stream",
     "text": [
      "\n",
      "\u001b[1mAvg. Error of ReH = 7.84%\n",
      "\u001b[1mAvg. Error of ReE = -8.21%\n",
      "\u001b[1mAvg. Error of ReHT = 6.33%\n"
     ]
    }
   ],
   "source": [
    "print('\\n\\033[1m%s%.2f%%' % ('Avg. Error of ReH = ', sum(errs_H)/len(errs_H)))\n",
    "# print('\\033[1m%s%.2f\\n' % ('Variance in Error of ReH = ', np.var(errs_H)))\n",
    "print('\\033[1m%s%.2f%%' % ('Avg. Error of ReE = ', sum(errs_E)/len(errs_E)))\n",
    "# print('\\033[1m%s%.2f\\n' % ('Variance in Error of ReE = ', np.var(errs_E)))\n",
    "print('\\033[1m%s%.2f%%' % ('Avg. Error of ReHT = ', sum(errs_HT)/len(errs_HT)))\n",
    "# print('\\033[1m%s%.2f' % ('Variance in Error of ReHT = ', np.var(errs_HT)))"
   ]
  },
  {
   "cell_type": "code",
   "execution_count": 38,
   "metadata": {},
   "outputs": [
    {
     "name": "stdout",
     "output_type": "stream",
     "text": [
      "[tensor([  4.9583, 537.4485,  47.0899], grad_fn=<AbsBackward>), tensor([ 10.2244, 465.7125,  42.6480], grad_fn=<AbsBackward>), tensor([ 49.2714, 434.4655,  65.8134], grad_fn=<AbsBackward>), tensor([ 35.1499, 503.0112,  67.0625], grad_fn=<AbsBackward>), tensor([ 10.2792, 468.0311,  43.6707], grad_fn=<AbsBackward>), tensor([ 48.2170, 440.9309,  67.2830], grad_fn=<AbsBackward>), tensor([ 22.1322, 428.0266,  46.7324], grad_fn=<AbsBackward>), tensor([ 35.1916, 497.0955,  64.4684], grad_fn=<AbsBackward>), tensor([  9.8443, 470.7363,  44.4787], grad_fn=<AbsBackward>), tensor([ 37.9648, 510.4319,  75.8155], grad_fn=<AbsBackward>), tensor([ 48.0038, 442.1663,  67.7484], grad_fn=<AbsBackward>), tensor([ 18.9876, 446.9259,  49.9477], grad_fn=<AbsBackward>), tensor([ 38.6049, 506.7593,  75.3727], grad_fn=<AbsBackward>), tensor([ 47.8508, 443.1191,  67.7583], grad_fn=<AbsBackward>), tensor([ 18.2127, 451.4348,  51.6316], grad_fn=<AbsBackward>), 18.21163448703832, 0.06301712292561437, 0.06655270345610827, 0.07767430899812579, 0.12244358544670746, 0.06680823399799954, 0.06418608738367683, 0.1341545143383788, 0.10561241863959253, 0.06250819581550175, 0.15862573683692494, 0.060441878354598265, 0.09918621239426328, 0.14666520867920754, 0.05693885220096048, 0.09059119530564635, 0.05770914381142838, 0.06315309899643422, 0.07794433613097423, 0.12309035805855638, 0.06682266646023477, 0.06418324916155205, 0.13415215880481077, 0.10561952192261284, 0.06250599296600269, 0.15862505468011806, 0.06044471657672305, 0.09918889282901312, 0.14666534511056892, 0.05727963687143139, 0.09057649352716994]\n"
     ]
    }
   ],
   "source": [
    "print(errs_H)"
   ]
  },
  {
   "cell_type": "code",
   "execution_count": 46,
   "metadata": {},
   "outputs": [
    {
     "data": {
      "image/png": "[encoded data removed]",
      "text/plain": [
       "<Figure size 432x288 with 1 Axes>"
      ]
     },
     "metadata": {
      "needs_background": "light"
     },
     "output_type": "display_data"
    }
   ],
   "source": [
    "import pandas as pd\n",
    "import numpy as np\n",
    "import matplotlib.pyplot as plt\n",
    "import scipy.stats as stats\n",
    "import re\n",
    "import sys\n",
    "\n",
    "\n",
    "\n",
    "ReHs = []\n",
    "ReEs = []\n",
    "ReHTs = []\n",
    "\n",
    "original_stdout = sys.stdout\n",
    "\n",
    "with open('all_reps.txt', 'r') as f:\n",
    "    for line in f:\n",
    "        # ReHs.append(int(f[l][1]))\n",
    "        # ReEs.append(int(f[4]))\n",
    "        # ReHTs.append(int(line[6]))\n",
    "        if len(line.split()) > 1:\n",
    "            ReHs.append(float(line.split()[1]))\n",
    "            ReEs.append(float(line.split()[2]))\n",
    "            ReHTs.append(float(line.split()[3]))\n",
    "\n",
    "ReHs = np.asarray(ReHs)\n",
    "ReEs = np.asarray(ReEs)\n",
    "ReHTs = np.asarray(ReHTs)\n",
    "\n",
    "meanReH = np.mean(ReHs)\n",
    "varReH = np.var(ReHs)\n",
    "meanReE = np.mean(ReEs)\n",
    "varReE = np.var(ReEs)\n",
    "meanReHT = np.mean(ReHTs)\n",
    "varReHT = np.var(ReHTs)\n",
    "\n",
    "plt.hist(ReHs, bins=100, range = (meanReH - 3*np.sqrt(varReH), meanReH + 3*np.sqrt(varReH)))\n",
    "plt.title('ReH Values over 1000 replicas')\n",
    "plt.xlabel('ReH')\n",
    "plt.show()"
   ]
  },
  {
   "cell_type": "code",
   "execution_count": null,
   "metadata": {},
   "outputs": [],
   "source": []
  }
 ],
 "metadata": {
  "kernelspec": {
   "display_name": "Python 3.8.0 64-bit ('3.8.0': pyenv)",
   "language": "python",
   "name": "python38064bit380pyenved12a976e68141e38c3bddf96dcbc67e"
  },
  "language_info": {
   "codemirror_mode": {
    "name": "ipython",
    "version": 3
   },
   "file_extension": ".py",
   "mimetype": "text/x-python",
   "name": "python",
   "nbconvert_exporter": "python",
   "pygments_lexer": "ipython3",
   "version": "3.8.0"
  }
 },
 "nbformat": 4,
 "nbformat_minor": 4
}
