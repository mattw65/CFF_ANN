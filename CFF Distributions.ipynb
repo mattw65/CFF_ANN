{
 "cells": [
  {
   "cell_type": "code",
   "execution_count": 31,
   "metadata": {},
   "outputs": [],
   "source": [
    "import pandas as pd\n",
    "import numpy as np\n",
    "import matplotlib.pyplot as plt\n",
    "import scipy.stats as stats\n",
    "import re\n",
    "import sys\n",
    "from scipy.stats import norm\n",
    "\n",
    "setnum = 0\n",
    "a = setnum*36\n",
    "b = a + 36\n",
    "\n",
    "dats = pd.read_csv('dvcs_psuedo.csv')\n",
    "\n",
    "n = np.array(dats['#Set'])[a:b]\n",
    "ind = np.array(dats['index'])[a:b]\n",
    "k = np.array(dats['k'])[a:b]\n",
    "qq = np.array(dats['QQ'])[a:b]\n",
    "xb = np.array(dats['x_b'])[a:b]\n",
    "t = np.array(dats['t'])[a:b]\n",
    "phi = np.array(dats['phi_x'])[a:b]\n",
    "ydat = np.array(dats['F'])[a:b]  \n",
    "errF = np.array(dats['errF'])[a:b]  \n",
    "F1 = np.array(dats['F1'])[a:b]  \n",
    "F2 = np.array(dats['F2'])[a:b]  \n",
    "const = np.array(dats['dvcs'])[a:b]  \n",
    "ReH_target = np.array(dats['ReH'])[a:b]  \n",
    "ReE_target = np.array(dats['ReE'])[a:b]  \n",
    "ReHT_target = np.array(dats['ReHtilde'])[a:b]\n",
    "\n",
    "ReHs = []\n",
    "ReEs = []\n",
    "ReHTs = []\n",
    "\n",
    "original_stdout = sys.stdout\n",
    "\n",
    "with open('all_reps.txt', 'r') as f:\n",
    "    for line in f:\n",
    "        # ReHs.append(int(f[l][1]))\n",
    "        # ReEs.append(int(f[4]))\n",
    "        # ReHTs.append(int(line[6]))\n",
    "        if len(line.split()) > 1:\n",
    "            ReHs.append(float(line.split()[1]))\n",
    "            ReEs.append(float(line.split()[2]))\n",
    "            ReHTs.append(float(line.split()[3]))\n",
    "\n",
    "ReHs = np.asarray(ReHs)\n",
    "ReEs = np.asarray(ReEs)\n",
    "ReHTs = np.asarray(ReHTs)\n",
    "\n",
    "meanReH = np.mean(ReHs)\n",
    "varReH = np.var(ReHs)\n",
    "meanReE = np.mean(ReEs)\n",
    "varReE = np.var(ReEs)\n",
    "meanReHT = np.mean(ReHTs)\n",
    "varReHT = np.var(ReHTs)"
   ]
  },
  {
   "cell_type": "code",
   "execution_count": 39,
   "metadata": {},
   "outputs": [
    {
     "data": {
      "image/png": "[encoded data removed]",
      "text/plain": [
       "<Figure size 432x288 with 1 Axes>"
      ]
     },
     "metadata": {
      "needs_background": "light"
     },
     "output_type": "display_data"
    },
    {
     "name": "stdout",
     "output_type": "stream",
     "text": [
      "True ReH: 13.06\n",
      "Mean ReH: 13.84 (6.01% Error)\n",
      "Standard Deviation ReH: 1.12\n",
      "Sigma ReH: 1.124683\n"
     ]
    }
   ],
   "source": [
    "m,sReH = norm.fit(ReHs)\n",
    "plt.hist(ReHs, bins=100, range = (meanReH - 3*np.sqrt(varReH), meanReH + 3*np.sqrt(varReH)))\n",
    "plt.vlines(meanReH, 0, 30, 'r')\n",
    "plt.show()\n",
    "print('True ReH: %.2f' % (ReH_target[0]))\n",
    "print('Mean ReH: %.2f (%.2f%% Error)' % (meanReH, abs(100*(ReH_target[0]-meanReH)/ReH_target[0])))\n",
    "print('Standard Deviation ReH: %.2f' % np.sqrt(varReH))\n",
    "print('Sigma ReH: %2f' % (sReH))"
   ]
  },
  {
   "cell_type": "code",
   "execution_count": 40,
   "metadata": {},
   "outputs": [
    {
     "data": {
      "image/png": "[encoded data removed]",
      "text/plain": [
       "<Figure size 432x288 with 1 Axes>"
      ]
     },
     "metadata": {
      "needs_background": "light"
     },
     "output_type": "display_data"
    },
    {
     "name": "stdout",
     "output_type": "stream",
     "text": [
      "True ReE: -53.06\n",
      "Mean ReE: -57.17 (7.75% Error)\n",
      "Standard Deviation ReE: 5.78\n",
      "Sigma ReH: 5.784034\n"
     ]
    }
   ],
   "source": [
    "m,sReE = norm.fit(ReEs)\n",
    "plt.hist(ReEs, bins=100, range = (meanReE - 3*np.sqrt(varReE), meanReE + 3*np.sqrt(varReE)))\n",
    "plt.vlines(meanReE, 0, 30, 'r')\n",
    "plt.show()\n",
    "print('True ReE: %.2f' % (ReE_target[0]))\n",
    "print('Mean ReE: %.2f (%.2f%% Error)' % (meanReE, abs(100*(ReE_target[0]-meanReE)/ReE_target[0])))\n",
    "print('Standard Deviation ReE: %.2f' % np.sqrt(varReE))\n",
    "print('Sigma ReH: %2f' % (sReE))"
   ]
  },
  {
   "cell_type": "code",
   "execution_count": 41,
   "metadata": {},
   "outputs": [
    {
     "data": {
      "image/png": "[encoded data removed]",
      "text/plain": [
       "<Figure size 432x288 with 1 Axes>"
      ]
     },
     "metadata": {
      "needs_background": "light"
     },
     "output_type": "display_data"
    },
    {
     "name": "stdout",
     "output_type": "stream",
     "text": [
      "True ReHT: 7.25\n",
      "Mean ReHT: 6.83 (5.87% Error)\n",
      "Standard Deviation ReHT: 0.65\n",
      "Sigma ReHT: 0.654181\n"
     ]
    }
   ],
   "source": [
    "m,sReHT = norm.fit(ReHTs)\n",
    "plt.hist(ReHTs, bins=100, range = (meanReHT - 3*np.sqrt(varReHT), meanReHT + 3*np.sqrt(varReHT)))\n",
    "plt.vlines(meanReHT, 0, 30, 'r')\n",
    "plt.show()\n",
    "print('True ReHT: %.2f' % (ReHT_target[0]))\n",
    "print('Mean ReHT: %.2f (%.2f%% Error)' % (meanReHT, abs(100*(ReHT_target[0]-meanReHT)/ReHT_target[0])))\n",
    "print('Standard Deviation ReHT: %.2f' % np.sqrt(varReHT))\n",
    "print('Sigma ReHT: %2f' % (sReHT))"
   ]
  },
  {
   "cell_type": "code",
   "execution_count": null,
   "metadata": {},
   "outputs": [],
   "source": []
  },
  {
   "cell_type": "code",
   "execution_count": null,
   "metadata": {},
   "outputs": [],
   "source": []
  }
 ],
 "metadata": {
  "kernelspec": {
   "display_name": "Python 3",
   "language": "python",
   "name": "python3"
  },
  "language_info": {
   "codemirror_mode": {
    "name": "ipython",
    "version": 3
   },
   "file_extension": ".py",
   "mimetype": "text/x-python",
   "name": "python",
   "nbconvert_exporter": "python",
   "pygments_lexer": "ipython3",
   "version": "3.8.0"
  }
 },
 "nbformat": 4,
 "nbformat_minor": 4
}
