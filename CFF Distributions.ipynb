{
 "cells": [
  {
   "cell_type": "code",
   "execution_count": 18,
   "metadata": {},
   "outputs": [],
   "source": [
    "import pandas as pd\n",
    "import numpy as np\n",
    "import matplotlib.pyplot as plt\n",
    "import scipy.stats as stats\n",
    "import re\n",
    "import sys\n",
    "from scipy.stats import norm\n",
    "from BHDVCS_torch import TBHDVCS\n",
    "\n",
    "tb = TBHDVCS()\n",
    "f = tb.TotalUUXS_curve_fit\n",
    "\n",
    "dats = pd.read_csv('dvcs_psuedo.csv')\n",
    "\n",
    "n = np.array(dats['#Set'])\n",
    "ind = np.array(dats['index'])\n",
    "k = np.array(dats['k'])\n",
    "qq = np.array(dats['QQ'])\n",
    "xb = np.array(dats['x_b'])\n",
    "t = np.array(dats['t'])\n",
    "phi = np.array(dats['phi_x'])\n",
    "ydat = np.array(dats['F'])\n",
    "errF = np.array(dats['errF'])\n",
    "F1 = np.array(dats['F1'])\n",
    "F2 = np.array(dats['F2'])\n",
    "const = np.array(dats['dvcs'])\n",
    "ReH_target = np.array(dats['ReH']) \n",
    "ReE_target = np.array(dats['ReE']) \n",
    "ReHT_target = np.array(dats['ReHtilde'])\n",
    "\n",
    "set0 = []\n",
    "set1 = []\n",
    "set2 = []\n",
    "set3 = []\n",
    "set4 = []\n",
    "set5 = []\n",
    "set6 = []\n",
    "set7 = []\n",
    "set8 = []\n",
    "allsetsReH = []\n",
    "allsetsReE = []\n",
    "allsetsReHT = []\n",
    "\n",
    "sets = [set0, set1, set2, set3, set4, set5, set6, set7, set8]\n",
    "\n",
    "\n",
    "original_stdout = sys.stdout\n",
    "\n",
    "with open('all_reps2.txt', 'r') as f:\n",
    "    for line in f:\n",
    "        if len(line.split()) > 1:\n",
    "            setnum = int(line.split()[0])\n",
    "            sets[setnum].append([float(line.split()[1]), float(line.split()[2]), float(line.split()[3])])\n",
    "            allsetsReH.append((float(line.split()[1])-ReH_target[36*setnum])/ReH_target[36*setnum])\n",
    "            allsetsReE.append((float(line.split()[2])-ReE_target[36*setnum])/ReE_target[36*setnum])\n",
    "            allsetsReHT.append((float(line.split()[3])-ReHT_target[36*setnum])/ReHT_target[36*setnum])\n"
   ]
  },
  {
   "cell_type": "code",
   "execution_count": 22,
   "metadata": {},
   "outputs": [],
   "source": [
    "def getDists(setnum): \n",
    "    setdat = np.asarray(sets[setnum])\n",
    "    d = 36*setnum\n",
    "    ReHs = np.transpose(setdat)[0]\n",
    "    ReEs = np.transpose(setdat)[1]\n",
    "    ReHTs = np.transpose(setdat)[2]\n",
    "\n",
    "    meanReH = np.mean(ReHs)\n",
    "    varReH = np.var(ReHs)\n",
    "    meanReE = np.mean(ReEs)\n",
    "    varReE = np.var(ReEs)\n",
    "    meanReHT = np.mean(ReHTs)\n",
    "    varReHT = np.var(ReHTs)\n",
    "\n",
    "    m,sReH = norm.fit(ReHs)\n",
    "    plt.hist(ReHs, bins=100, range = (meanReH - 3*np.sqrt(varReH), meanReH + 3*np.sqrt(varReH)))\n",
    "    plt.vlines(meanReH, 0, 40, 'r')\n",
    "    plt.vlines(ReH_target[d], 0, 40, 'g')\n",
    "    plt.show()\n",
    "    print('True ReH: %.2f' % (ReH_target[d]))\n",
    "    print('Mean ReH: %.2f (%.2f%% Error)' % (meanReH, abs(100*(ReH_target[d]-meanReH)/ReH_target[d])))\n",
    "    print('Sigma ReH: %2f\\n' % (sReH))\n",
    "\n",
    "    m,sReE = norm.fit(ReEs)\n",
    "    plt.hist(ReEs, bins=100, range = (meanReE - 3*np.sqrt(varReE), meanReE + 3*np.sqrt(varReE)))\n",
    "    plt.vlines(meanReE, 0, 35, 'r')\n",
    "    plt.vlines(ReE_target[d], 0, 35, 'g')\n",
    "    plt.show()\n",
    "    print('True ReE: %.2f' % (ReE_target[d]))\n",
    "    print('Mean ReE: %.2f (%.2f%% Error)' % (meanReE, abs(100*(ReE_target[d]-meanReE)/ReE_target[d])))\n",
    "    print('Sigma ReE: %2f\\n' % (sReE))\n",
    "\n",
    "    m,sReHT = norm.fit(ReHTs)\n",
    "    plt.hist(ReHTs, bins=100, range = (meanReHT - 3*np.sqrt(varReHT), meanReHT + 3*np.sqrt(varReHT)))\n",
    "    plt.vlines(meanReHT, 0, 35, 'r')\n",
    "    plt.vlines(ReHT_target[d], 0, 35, 'g')\n",
    "    plt.show()\n",
    "    print('True ReHT: %.2f' % (ReHT_target[d]))\n",
    "    print('Mean ReHT: %.2f (%.2f%% Error)' % (meanReHT, abs(100*(ReHT_target[d]-meanReHT)/ReHT_target[d])))\n",
    "    print('Sigma ReHT: %2f\\n' % (sReHT))"
   ]
  },
  {
   "cell_type": "code",
   "execution_count": 6,
   "metadata": {},
   "outputs": [
    {
     "data": {
      "image/png": "[encoded data removed]",
      "text/plain": [
       "<Figure size 432x288 with 1 Axes>"
      ]
     },
     "metadata": {
      "needs_background": "light"
     },
     "output_type": "display_data"
    },
    {
     "name": "stdout",
     "output_type": "stream",
     "text": [
      "Average Fit ReH over Target ReH: -0.064\n",
      "Sigma ReH: 0.257755\n"
     ]
    },
    {
     "data": {
      "image/png": "[encoded data removed]",
      "text/plain": [
       "<Figure size 432x288 with 1 Axes>"
      ]
     },
     "metadata": {
      "needs_background": "light"
     },
     "output_type": "display_data"
    },
    {
     "name": "stdout",
     "output_type": "stream",
     "text": [
      "Average Fit ReH over Target ReE: -0.075\n",
      "Sigma ReE: 0.257486\n"
     ]
    },
    {
     "data": {
      "image/png": "[encoded data removed]",
      "text/plain": [
       "<Figure size 432x288 with 1 Axes>"
      ]
     },
     "metadata": {
      "needs_background": "light"
     },
     "output_type": "display_data"
    },
    {
     "name": "stdout",
     "output_type": "stream",
     "text": [
      "Average Fit ReH over Target ReHT: 0.036\n",
      "Sigma ReHT: 0.217977\n"
     ]
    }
   ],
   "source": [
    "ReHs = allsetsReH\n",
    "ReEs = allsetsReE\n",
    "ReHTs = allsetsReHT\n",
    "\n",
    "meanReH = np.mean(ReHs)\n",
    "varReH = np.var(ReHs)\n",
    "meanReE = np.mean(ReEs)\n",
    "varReE = np.var(ReEs)\n",
    "meanReHT = np.mean(ReHTs)\n",
    "varReHT = np.var(ReHTs)\n",
    "\n",
    "m,sReH = norm.fit(ReHs)\n",
    "plt.hist(ReHs, bins=100, range = (meanReH - 3*np.sqrt(varReH), meanReH + 3*np.sqrt(varReH)))\n",
    "plt.vlines(0, 0, 250, 'r')\n",
    "plt.show()\n",
    "print('Average Fit ReH over Target ReH: %.3f' % (meanReH))\n",
    "print('Sigma ReH: %2f' % (sReH))\n",
    "\n",
    "m,sReE = norm.fit(ReEs)\n",
    "plt.hist(ReEs, bins=100, range = (meanReE - 3*np.sqrt(varReE), meanReE + 3*np.sqrt(varReE)))\n",
    "plt.vlines(0, 0, 250, 'r')\n",
    "plt.show()\n",
    "print('Average Fit ReH over Target ReE: %.3f' % (meanReE))\n",
    "print('Sigma ReE: %2f' % (sReE))\n",
    "\n",
    "m,sReHT = norm.fit(ReHTs)\n",
    "plt.hist(ReHTs, bins=100, range = (meanReHT - 3*np.sqrt(varReHT), meanReHT + 3*np.sqrt(varReHT)))\n",
    "plt.vlines(0, 0, 250, 'r')\n",
    "plt.show()\n",
    "print('Average Fit ReH over Target ReHT: %.3f' % (meanReHT))\n",
    "print('Sigma ReHT: %2f' % (sReHT))"
   ]
  },
  {
   "cell_type": "markdown",
   "metadata": {},
   "source": [
    "## Set 0"
   ]
  },
  {
   "cell_type": "code",
   "execution_count": 20,
   "metadata": {},
   "outputs": [
    {
     "data": {
      "image/png": "[encoded data removed]",
      "text/plain": [
       "<Figure size 432x288 with 1 Axes>"
      ]
     },
     "metadata": {
      "needs_background": "light"
     },
     "output_type": "display_data"
    },
    {
     "name": "stdout",
     "output_type": "stream",
     "text": [
      "True ReH: 13.06\n",
      "Mean ReH: 13.73 (5.18% Error)\n",
      "Sigma ReH: 1.101786\n",
      "\n"
     ]
    },
    {
     "data": {
      "image/png": "[encoded data removed]",
      "text/plain": [
       "<Figure size 432x288 with 1 Axes>"
      ]
     },
     "metadata": {
      "needs_background": "light"
     },
     "output_type": "display_data"
    },
    {
     "name": "stdout",
     "output_type": "stream",
     "text": [
      "True ReE: -53.06\n",
      "Mean ReE: -56.64 (6.75% Error)\n",
      "Sigma ReH: 5.643754\n",
      "\n"
     ]
    },
    {
     "data": {
      "image/png": "[encoded data removed]",
      "text/plain": [
       "<Figure size 432x288 with 1 Axes>"
      ]
     },
     "metadata": {
      "needs_background": "light"
     },
     "output_type": "display_data"
    },
    {
     "name": "stdout",
     "output_type": "stream",
     "text": [
      "True ReHT: 7.25\n",
      "Mean ReHT: 6.80 (6.29% Error)\n",
      "Sigma ReHT: 0.636681\n",
      "\n"
     ]
    }
   ],
   "source": [
    "getDists(0)"
   ]
  },
  {
   "cell_type": "markdown",
   "metadata": {},
   "source": [
    "## Set 1"
   ]
  },
  {
   "cell_type": "code",
   "execution_count": 23,
   "metadata": {},
   "outputs": [
    {
     "data": {
      "image/png": "[encoded data removed]",
      "text/plain": [
       "<Figure size 432x288 with 1 Axes>"
      ]
     },
     "metadata": {
      "needs_background": "light"
     },
     "output_type": "display_data"
    },
    {
     "name": "stdout",
     "output_type": "stream",
     "text": [
      "True ReH: 12.55\n",
      "Mean ReH: 11.69 (6.93% Error)\n",
      "Sigma ReH: 2.682727\n",
      "\n"
     ]
    },
    {
     "data": {
      "image/png": "[encoded data removed]",
      "text/plain": [
       "<Figure size 432x288 with 1 Axes>"
      ]
     },
     "metadata": {
      "needs_background": "light"
     },
     "output_type": "display_data"
    },
    {
     "name": "stdout",
     "output_type": "stream",
     "text": [
      "True ReE: -52.55\n",
      "Mean ReE: -47.55 (9.52% Error)\n",
      "Sigma ReE: 14.102813\n",
      "\n"
     ]
    },
    {
     "data": {
      "image/png": "[encoded data removed]",
      "text/plain": [
       "<Figure size 432x288 with 1 Axes>"
      ]
     },
     "metadata": {
      "needs_background": "light"
     },
     "output_type": "display_data"
    },
    {
     "name": "stdout",
     "output_type": "stream",
     "text": [
      "True ReHT: 6.97\n",
      "Mean ReHT: 7.55 (8.22% Error)\n",
      "Sigma ReHT: 1.296748\n",
      "\n"
     ]
    }
   ],
   "source": [
    "getDists(1)"
   ]
  },
  {
   "cell_type": "markdown",
   "metadata": {},
   "source": [
    "## Set 2"
   ]
  },
  {
   "cell_type": "code",
   "execution_count": 24,
   "metadata": {},
   "outputs": [
    {
     "data": {
      "image/png": "[encoded data removed]",
      "text/plain": [
       "<Figure size 432x288 with 1 Axes>"
      ]
     },
     "metadata": {
      "needs_background": "light"
     },
     "output_type": "display_data"
    },
    {
     "name": "stdout",
     "output_type": "stream",
     "text": [
      "True ReH: 7.22\n",
      "Mean ReH: 6.54 (9.46% Error)\n",
      "Sigma ReH: 2.630998\n",
      "\n"
     ]
    },
    {
     "data": {
      "image/png": "[encoded data removed]",
      "text/plain": [
       "<Figure size 432x288 with 1 Axes>"
      ]
     },
     "metadata": {
      "needs_background": "light"
     },
     "output_type": "display_data"
    },
    {
     "name": "stdout",
     "output_type": "stream",
     "text": [
      "True ReE: -47.22\n",
      "Mean ReE: -43.22 (8.48% Error)\n",
      "Sigma ReE: 15.091114\n",
      "\n"
     ]
    },
    {
     "data": {
      "image/png": "[encoded data removed]",
      "text/plain": [
       "<Figure size 432x288 with 1 Axes>"
      ]
     },
     "metadata": {
      "needs_background": "light"
     },
     "output_type": "display_data"
    },
    {
     "name": "stdout",
     "output_type": "stream",
     "text": [
      "True ReHT: 4.01\n",
      "Mean ReHT: 4.52 (12.66% Error)\n",
      "Sigma ReHT: 0.957782\n",
      "\n"
     ]
    }
   ],
   "source": [
    "getDists(2)"
   ]
  },
  {
   "cell_type": "markdown",
   "metadata": {},
   "source": [
    "## Set 3"
   ]
  },
  {
   "cell_type": "code",
   "execution_count": 25,
   "metadata": {},
   "outputs": [
    {
     "data": {
      "image/png": "[encoded data removed]",
      "text/plain": [
       "<Figure size 432x288 with 1 Axes>"
      ]
     },
     "metadata": {
      "needs_background": "light"
     },
     "output_type": "display_data"
    },
    {
     "name": "stdout",
     "output_type": "stream",
     "text": [
      "True ReH: 7.65\n",
      "Mean ReH: 7.43 (2.86% Error)\n",
      "Sigma ReH: 2.579284\n",
      "\n"
     ]
    },
    {
     "data": {
      "image/png": "[encoded data removed]",
      "text/plain": [
       "<Figure size 432x288 with 1 Axes>"
      ]
     },
     "metadata": {
      "needs_background": "light"
     },
     "output_type": "display_data"
    },
    {
     "name": "stdout",
     "output_type": "stream",
     "text": [
      "True ReE: -47.65\n",
      "Mean ReE: -46.67 (2.06% Error)\n",
      "Sigma ReE: 13.014765\n",
      "\n"
     ]
    },
    {
     "data": {
      "image/png": "[encoded data removed]",
      "text/plain": [
       "<Figure size 432x288 with 1 Axes>"
      ]
     },
     "metadata": {
      "needs_background": "light"
     },
     "output_type": "display_data"
    },
    {
     "name": "stdout",
     "output_type": "stream",
     "text": [
      "True ReHT: 4.25\n",
      "Mean ReHT: 4.12 (3.01% Error)\n",
      "Sigma ReHT: 1.042199\n",
      "\n"
     ]
    }
   ],
   "source": [
    "getDists(3)"
   ]
  },
  {
   "cell_type": "markdown",
   "metadata": {},
   "source": [
    "## Set 4"
   ]
  },
  {
   "cell_type": "code",
   "execution_count": 26,
   "metadata": {},
   "outputs": [
    {
     "data": {
      "image/png": "[encoded data removed]",
      "text/plain": [
       "<Figure size 432x288 with 1 Axes>"
      ]
     },
     "metadata": {
      "needs_background": "light"
     },
     "output_type": "display_data"
    },
    {
     "name": "stdout",
     "output_type": "stream",
     "text": [
      "True ReH: 12.55\n",
      "Mean ReH: 11.59 (7.65% Error)\n",
      "Sigma ReH: 1.231093\n",
      "\n"
     ]
    },
    {
     "data": {
      "image/png": "[encoded data removed]",
      "text/plain": [
       "<Figure size 432x288 with 1 Axes>"
      ]
     },
     "metadata": {
      "needs_background": "light"
     },
     "output_type": "display_data"
    },
    {
     "name": "stdout",
     "output_type": "stream",
     "text": [
      "True ReE: -52.55\n",
      "Mean ReE: -47.44 (9.73% Error)\n",
      "Sigma ReE: 6.315369\n",
      "\n"
     ]
    },
    {
     "data": {
      "image/png": "[encoded data removed]",
      "text/plain": [
       "<Figure size 432x288 with 1 Axes>"
      ]
     },
     "metadata": {
      "needs_background": "light"
     },
     "output_type": "display_data"
    },
    {
     "name": "stdout",
     "output_type": "stream",
     "text": [
      "True ReHT: 6.97\n",
      "Mean ReHT: 7.39 (6.00% Error)\n",
      "Sigma ReHT: 0.719295\n",
      "\n"
     ]
    }
   ],
   "source": [
    "getDists(4)"
   ]
  },
  {
   "cell_type": "markdown",
   "metadata": {},
   "source": [
    "## Set 5"
   ]
  },
  {
   "cell_type": "code",
   "execution_count": 27,
   "metadata": {},
   "outputs": [
    {
     "data": {
      "image/png": "[encoded data removed]",
      "text/plain": [
       "<Figure size 432x288 with 1 Axes>"
      ]
     },
     "metadata": {
      "needs_background": "light"
     },
     "output_type": "display_data"
    },
    {
     "name": "stdout",
     "output_type": "stream",
     "text": [
      "True ReH: 7.22\n",
      "Mean ReH: 6.69 (7.36% Error)\n",
      "Sigma ReH: 1.834488\n",
      "\n"
     ]
    },
    {
     "data": {
      "image/png": "[encoded data removed]",
      "text/plain": [
       "<Figure size 432x288 with 1 Axes>"
      ]
     },
     "metadata": {
      "needs_background": "light"
     },
     "output_type": "display_data"
    },
    {
     "name": "stdout",
     "output_type": "stream",
     "text": [
      "True ReE: -47.22\n",
      "Mean ReE: -44.13 (6.56% Error)\n",
      "Sigma ReE: 10.422852\n",
      "\n"
     ]
    },
    {
     "data": {
      "image/png": "[encoded data removed]",
      "text/plain": [
       "<Figure size 432x288 with 1 Axes>"
      ]
     },
     "metadata": {
      "needs_background": "light"
     },
     "output_type": "display_data"
    },
    {
     "name": "stdout",
     "output_type": "stream",
     "text": [
      "True ReHT: 4.01\n",
      "Mean ReHT: 4.23 (5.37% Error)\n",
      "Sigma ReHT: 0.633418\n",
      "\n"
     ]
    }
   ],
   "source": [
    "getDists(5)"
   ]
  },
  {
   "cell_type": "markdown",
   "metadata": {},
   "source": [
    "## Set 6"
   ]
  },
  {
   "cell_type": "code",
   "execution_count": 15,
   "metadata": {},
   "outputs": [
    {
     "name": "stdout",
     "output_type": "stream",
     "text": [
      "True ReH: 11.74\n",
      "Mean ReH: 10.19 (13.21% Error)\n",
      "Sigma ReH: 3.240054\n",
      "\n",
      "True ReE: -51.74\n",
      "Mean ReE: -42.97 (16.95% Error)\n",
      "Sigma ReH: 18.437086\n",
      "\n",
      "True ReHT: 6.52\n",
      "Mean ReHT: 6.94 (6.36% Error)\n",
      "Sigma ReHT: 1.594173\n",
      "\n"
     ]
    }
   ],
   "source": [
    "getDists(6)"
   ]
  },
  {
   "cell_type": "markdown",
   "metadata": {},
   "source": [
    "## Set 7"
   ]
  },
  {
   "cell_type": "code",
   "execution_count": 16,
   "metadata": {},
   "outputs": [
    {
     "name": "stdout",
     "output_type": "stream",
     "text": [
      "True ReH: 7.65\n",
      "Mean ReH: 8.13 (6.27% Error)\n",
      "Sigma ReH: 2.261585\n",
      "\n",
      "True ReE: -47.65\n",
      "Mean ReE: -50.18 (5.31% Error)\n",
      "Sigma ReH: 11.376090\n",
      "\n",
      "True ReHT: 4.25\n",
      "Mean ReHT: 4.47 (5.21% Error)\n",
      "Sigma ReHT: 1.527616\n",
      "\n"
     ]
    }
   ],
   "source": [
    "getDists(7)"
   ]
  },
  {
   "cell_type": "markdown",
   "metadata": {},
   "source": [
    "## Set 8"
   ]
  },
  {
   "cell_type": "code",
   "execution_count": 17,
   "metadata": {},
   "outputs": [
    {
     "name": "stdout",
     "output_type": "stream",
     "text": [
      "True ReH: 12.55\n",
      "Mean ReH: 9.88 (21.33% Error)\n",
      "Sigma ReH: 0.625082\n",
      "\n",
      "True ReE: -52.55\n",
      "Mean ReE: -38.62 (26.51% Error)\n",
      "Sigma ReH: 3.199023\n",
      "\n",
      "True ReHT: 6.97\n",
      "Mean ReHT: 6.81 (2.40% Error)\n",
      "Sigma ReHT: 0.823573\n",
      "\n"
     ]
    }
   ],
   "source": [
    "getDists(8)"
   ]
  },
  {
   "cell_type": "code",
   "execution_count": null,
   "metadata": {},
   "outputs": [],
   "source": []
  }
 ],
 "metadata": {
  "kernelspec": {
   "display_name": "Python 3",
   "language": "python",
   "name": "python3"
  },
  "language_info": {
   "codemirror_mode": {
    "name": "ipython",
    "version": 3
   },
   "file_extension": ".py",
   "mimetype": "text/x-python",
   "name": "python",
   "nbconvert_exporter": "python",
   "pygments_lexer": "ipython3",
   "version": "3.8.0"
  }
 },
 "nbformat": 4,
 "nbformat_minor": 4
}
