{
 "cells": [
  {
   "cell_type": "markdown",
   "metadata": {},
   "source": [
    "# This file will train a network on many replicas of a set, then produce the mean CFFs found"
   ]
  },
  {
   "cell_type": "code",
   "execution_count": 1,
   "metadata": {},
   "outputs": [],
   "source": [
    "import torch\n",
    "import torch.nn as nn\n",
    "from torch.autograd import Variable\n",
    "import torch.nn.functional as F\n",
    "import torch.utils.data as Data\n",
    "\n",
    "import numpy as np\n",
    "import pandas as pd \n",
    "from BHDVCS_torch import TBHDVCS\n",
    "\n",
    "import matplotlib\n",
    "import matplotlib.pyplot as plt\n",
    "\n",
    "import sys\n",
    "from scipy.stats import chisquare"
   ]
  },
  {
   "cell_type": "code",
   "execution_count": 2,
   "metadata": {},
   "outputs": [],
   "source": [
    "tb = TBHDVCS()\n",
    "\n",
    "f = tb.TotalUUXS_curve_fit3\n",
    "loss_func = tb.loss_MSE"
   ]
  },
  {
   "cell_type": "code",
   "execution_count": 3,
   "metadata": {},
   "outputs": [],
   "source": [
    "dats = pd.read_csv('dvcs_psuedo.csv')\n",
    "n = np.array(dats['#Set'])\n",
    "ind = np.array(dats['index'])\n",
    "k = np.array(dats['k'])\n",
    "qq = np.array(dats['QQ'])\n",
    "xb = np.array(dats['x_b'])\n",
    "t = np.array(dats['t'])\n",
    "phi = np.array(dats['phi_x'])\n",
    "F = np.array(dats['F'])\n",
    "errF = np.array(dats['errF']) \n",
    "F1 = np.array(dats['F1'])\n",
    "F2 = np.array(dats['F2'])\n",
    "const = np.array(dats['dvcs'])  \n",
    "ReH_target = np.array(dats['ReH']) \n",
    "ReE_target = np.array(dats['ReE']) \n",
    "ReHT_target = np.array(dats['ReHtilde'])\n",
    "yrep = []\n",
    "\n",
    "errs_H = []\n",
    "errs_E = []\n",
    "errs_HT = []\n",
    "\n",
    "rep_ReH = []\n",
    "rep_ReE = []\n",
    "rep_ReHT = []"
   ]
  },
  {
   "cell_type": "code",
   "execution_count": 4,
   "metadata": {},
   "outputs": [],
   "source": [
    "blank_net = torch.nn.Sequential(\n",
    "        torch.nn.Linear(4, 100),\n",
    "        torch.nn.Tanh(),\n",
    "        torch.nn.Linear(100, 100),\n",
    "        torch.nn.Tanh(),\n",
    "        torch.nn.Linear(100, 80),\n",
    "        torch.nn.Tanh(),\n",
    "        torch.nn.Linear(80, 3)\n",
    "    )"
   ]
  },
  {
   "cell_type": "code",
   "execution_count": 5,
   "metadata": {},
   "outputs": [],
   "source": [
    "optimizer = torch.optim.Adam(blank_net.parameters(), lr=0.02)"
   ]
  },
  {
   "cell_type": "code",
   "execution_count": 6,
   "metadata": {},
   "outputs": [],
   "source": [
    "EPOCH = 2500"
   ]
  },
  {
   "cell_type": "code",
   "execution_count": 7,
   "metadata": {},
   "outputs": [],
   "source": [
    "datset = 0"
   ]
  },
  {
   "cell_type": "code",
   "execution_count": 8,
   "metadata": {},
   "outputs": [],
   "source": [
    "reps = 10"
   ]
  },
  {
   "cell_type": "markdown",
   "metadata": {},
   "source": [
    "## Training:"
   ]
  },
  {
   "cell_type": "code",
   "execution_count": null,
   "metadata": {},
   "outputs": [
    {
     "name": "stdout",
     "output_type": "stream",
     "text": [
      "0% done with set #0."
     ]
    }
   ],
   "source": [
    "i = datset\n",
    "a = 36*1 # start index of set\n",
    "b = a+36 # end index of set\n",
    "for j in range(reps): # create n replicas\n",
    "    yrep.clear()\n",
    "    for l in range(b-a): \n",
    "        net = blank_net\n",
    "        yind = 36*i+l\n",
    "        yrep.append(np.random.normal(F[yind], errF[yind]))\n",
    "\n",
    "\n",
    "    xdat = np.array([phi[a:b], qq[a:b], xb[a:b], t[a:b], k[a:b], F1[a:b], F2[a:b], const[a:b]])\n",
    "    ydat = np.array(yrep)\n",
    "\n",
    "    x = Variable(torch.from_numpy(xdat[1:5].transpose()))\n",
    "    y = Variable(torch.from_numpy(ydat.transpose()))\n",
    "\n",
    "    xdat = Variable(torch.from_numpy(xdat))\n",
    "\n",
    "    errs = Variable(torch.from_numpy(errF[a:b]))\n",
    "\n",
    "    for epoch in range(EPOCH):\n",
    "        sys.stdout.write(\"\\r%d%% done with set #%d.\" % (float((j+1)*EPOCH)/float(reps*EPOCH), i))\n",
    "        sys.stdout.flush()\n",
    "\n",
    "        p = net(x.float()) #output 3 predicted values for cffs\n",
    "\n",
    "        ReHfit = torch.mean(torch.transpose(p, 0, 1)[0])\n",
    "        ReEfit = torch.mean(torch.transpose(p, 0, 1)[1])\n",
    "        ReHTfit = torch.mean(torch.transpose(p, 0, 1)[2])\n",
    "        cffs = [ReHfit, ReEfit, ReHTfit]\n",
    "\n",
    "        loss = loss_func((xdat.float()), cffs, errs, y)\n",
    "\n",
    "        optimizer.zero_grad()\n",
    "        loss.backward()\n",
    "        optimizer.step()\n",
    "\n",
    "    rep_ReH.append(cffs[0].data.numpy())\n",
    "    rep_ReE.append(cffs[1].data.numpy())\n",
    "    rep_ReHT.append(cffs[2].data.numpy())\n",
    "\n",
    "rep_ReH = np.array(rep_ReH)\n",
    "rep_ReE = np.array(rep_ReE)\n",
    "rep_ReHT = np.array(rep_ReHT)\n",
    "\n",
    "err_H = abs(100*(abs(np.mean(rep_ReH)-ReH_target[a]))/ReH_target[a])\n",
    "err_E = abs(100*(abs(np.mean(rep_ReE)-ReE_target[a]))/ReE_target[a])\n",
    "err_HT = abs(100*(abs(np.mean(rep_ReHT)-ReHT_target[a]))/ReHT_target[a])\n",
    "\n",
    "errs_H.append(errH)\n",
    "errs_H.append(errH)\n",
    "errs_H.append(errH)\n",
    "\n",
    "\n",
    "print('Mean ReH for set %d = %.2f, error = %.2f, variance = %.2f' % (i, np.mean(rep_ReH), err_H, np.var(rep_ReH)))\n",
    "print('Mean ReE for set %d = %.2f, error = %.2f, variance = %.2f' % (i, np.mean(rep_ReE), err_E, np.var(rep_ReE)))\n",
    "print('Mean ReHT for set %d = %.2f, error = %.2f, variance = %.2f\\n' % (i, np.mean(rep_ReHT), err_HT, np.var(rep_ReHT)))"
   ]
  },
  {
   "cell_type": "code",
   "execution_count": null,
   "metadata": {},
   "outputs": [],
   "source": []
  }
 ],
 "metadata": {
  "kernelspec": {
   "display_name": "Python 3.8.0 64-bit ('3.8.0': pyenv)",
   "language": "python",
   "name": "python38064bit380pyenved12a976e68141e38c3bddf96dcbc67e"
  },
  "language_info": {
   "codemirror_mode": {
    "name": "ipython",
    "version": 3
   },
   "file_extension": ".py",
   "mimetype": "text/x-python",
   "name": "python",
   "nbconvert_exporter": "python",
   "pygments_lexer": "ipython3",
   "version": "3.8.0"
  }
 },
 "nbformat": 4,
 "nbformat_minor": 4
}
